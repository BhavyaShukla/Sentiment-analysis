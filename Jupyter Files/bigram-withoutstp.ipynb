{
 "cells": [
  {
   "cell_type": "code",
   "execution_count": 1,
   "metadata": {
    "colab": {
     "base_uri": "https://localhost:8080/",
     "height": 50
    },
    "colab_type": "code",
    "executionInfo": {
     "elapsed": 584,
     "status": "ok",
     "timestamp": 1597883544788,
     "user": {
      "displayName": "Bhavya Shukla",
      "photoUrl": "https://lh3.googleusercontent.com/a-/AOh14GhwZLTf5LZi0oQ47yV5CkiLYH8Tj1h4BjymPaWPVA=s64",
      "userId": "03457077663430890246"
     },
     "user_tz": -60
    },
    "id": "FuCw-5qI_L-q",
    "outputId": "0377dc1f-bcff-4073-ca84-6b0c93d75fdd"
   },
   "outputs": [
    {
     "name": "stderr",
     "output_type": "stream",
     "text": [
      "[nltk_data] Downloading package wordnet to\n",
      "[nltk_data]     C:\\Users\\bhavya\\AppData\\Roaming\\nltk_data...\n",
      "[nltk_data]   Package wordnet is already up-to-date!\n"
     ]
    }
   ],
   "source": [
    "# utilities\n",
    "import re\n",
    "import pickle\n",
    "import numpy as np\n",
    "import pandas as pd\n",
    "\n",
    "# plotting\n",
    "import seaborn as sns\n",
    "from wordcloud import WordCloud\n",
    "import matplotlib.pyplot as plt\n",
    "import nltk\n",
    "nltk.download('wordnet')\n",
    "# nltk\n",
    "import nltk\n",
    "\n",
    "from nltk.stem import WordNetLemmatizer\n",
    "\n",
    "# sklearn\n",
    "from sklearn.svm import LinearSVC\n",
    "from sklearn.naive_bayes import BernoulliNB\n",
    "from sklearn.linear_model import LogisticRegression\n",
    "from sklearn.ensemble import AdaBoostClassifier\n",
    "from sklearn.model_selection import train_test_split\n",
    "from sklearn.feature_extraction.text import TfidfVectorizer\n",
    "from sklearn.metrics import confusion_matrix, classification_report\n",
    "from sklearn.ensemble import RandomForestClassifier\n",
    "from sklearn.tree import DecisionTreeClassifier\n",
    "from sklearn.neural_network import MLPClassifier\n",
    "# sklearn\n"
   ]
  },
  {
   "cell_type": "code",
   "execution_count": null,
   "metadata": {
    "colab": {},
    "colab_type": "code",
    "id": "VBNCo95mS76A"
   },
   "outputs": [],
   "source": []
  },
  {
   "cell_type": "code",
   "execution_count": 11,
   "metadata": {
    "colab": {},
    "colab_type": "code",
    "id": "aHwV6dLD_mIy"
   },
   "outputs": [],
   "source": [
    "def preprocess(textdata):\n",
    "    processedText = []\n",
    "    \n",
    "    # Create Lemmatizer and Stemmer.\n",
    "    wordLemm = WordNetLemmatizer()\n",
    "    \n",
    "    # Defining regex patterns.\n",
    "    urlPattern        = r\"((http://)[^ ]*|(https://)[^ ]*|( www\\.)[^ ]*)\"\n",
    "    userPattern       = '@[^\\s]+'\n",
    "    alphaPattern      = \"[^a-zA-Z0-9]\"\n",
    "    sequencePattern   = r\"(.)\\1\\1+\"\n",
    "    seqReplacePattern = r\"\\1\\1\"\n",
    "    \n",
    "    for tweet in textdata:\n",
    "        tweet = tweet.lower()\n",
    "        \n",
    "        # Replace all URls with 'URL'\n",
    "        tweet = re.sub(urlPattern,' URL',tweet)\n",
    "        # Replace all emojis.\n",
    "        for emoji in emojis.keys():\n",
    "            tweet = tweet.replace(emoji, \"EMOJI\" + emojis[emoji])        \n",
    "        # Replace @USERNAME to 'USER'.\n",
    "        tweet = re.sub(userPattern,' USER', tweet)        \n",
    "        # Replace all non alphabets.\n",
    "        tweet = re.sub(alphaPattern, \" \", tweet)\n",
    "        # Replace 3 or more consecutive letters by 2 letter.\n",
    "        tweet = re.sub(sequencePattern, seqReplacePattern, tweet)\n",
    "        tweetwords = ''\n",
    "        for word in tweet.split():\n",
    "            # Checking if the word is a stopword.\n",
    "            #if word not in stopwordlist:\n",
    "            if len(word)>1:\n",
    "                # Lemmatizing the word.\n",
    "                word = wordLemm.lemmatize(word)\n",
    "                tweetwords += (word+' ')\n",
    "            \n",
    "        processedText.append(tweetwords)\n",
    "        \n",
    "    return processedText"
   ]
  },
  {
   "cell_type": "code",
   "execution_count": 12,
   "metadata": {
    "colab": {},
    "colab_type": "code",
    "id": "64slaAlT_dnh"
   },
   "outputs": [],
   "source": [
    "# Defining dictionary containing all emojis with their meanings.\n",
    "emojis = {':)': 'smile', ':-)': 'smile', ';d': 'wink', ':-E': 'vampire', ':(': 'sad', \n",
    "          ':-(': 'sad', ':-<': 'sad', ':P': 'raspberry', ':O': 'surprised',\n",
    "          ':-@': 'shocked', ':@': 'shocked',':-$': 'confused', ':\\\\': 'annoyed', \n",
    "          ':#': 'mute', ':X': 'mute', ':^)': 'smile', ':-&': 'confused', '$_$': 'greedy',\n",
    "          '@@': 'eyeroll', ':-!': 'confused', ':-D': 'smile', ':-0': 'yell', 'O.o': 'confused',\n",
    "          '<(-_-)>': 'robot', 'd[-_-]b': 'dj', \":'-)\": 'sadsmile', ';)': 'wink', \n",
    "          ';-)': 'wink', 'O:-)': 'angel','O*-)': 'angel','(:-D': 'gossip', '=^.^=': 'cat'}\n",
    "\n",
    "## Defining set containing all stopwords in english.\n",
    "stopwordlist = ['a', 'about', 'above', 'after', 'again', 'ain', 'all', 'am', 'an',\n",
    "             'and','any','are', 'as', 'at', 'be', 'because', 'been', 'before',\n",
    "             'being', 'below', 'between','both', 'by', 'can', 'd', 'did', 'do',\n",
    "             'does', 'doing', 'down', 'during', 'each','few', 'for', 'from', \n",
    "             'further', 'had', 'has', 'have', 'having', 'he', 'her', 'here',\n",
    "             'hers', 'herself', 'him', 'himself', 'his', 'how', 'i', 'if', 'in',\n",
    "             'into','is', 'it', 'its', 'itself', 'just', 'll', 'm', 'ma',\n",
    "             'me', 'more', 'most','my', 'myself', 'now', 'o', 'of', 'on', 'once',\n",
    "             'only', 'or', 'other', 'our', 'ours','ourselves', 'out', 'own', 're',\n",
    "             's', 'same', 'she', \"shes\", 'should', \"shouldve\",'so', 'some', 'such',\n",
    "             't', 'than', 'that', \"thatll\", 'the', 'their', 'theirs', 'them',\n",
    "             'themselves', 'then', 'there', 'these', 'they', 'this', 'those', \n",
    "             'through', 'to', 'too','under', 'until', 'up', 've', 'very', 'was',\n",
    "             'we', 'were', 'what', 'when', 'where','which','while', 'who', 'whom',\n",
    "             'why', 'will', 'with', 'won', 'y', 'you', \"youd\",\"youll\", \"youre\",\n",
    "             \"youve\", 'your', 'yours', 'yourself', 'yourselves']"
   ]
  },
  {
   "cell_type": "code",
   "execution_count": 3,
   "metadata": {
    "colab": {},
    "colab_type": "code",
    "id": "Eyipyp4sABAB"
   },
   "outputs": [],
   "source": [
    "\n",
    "processed_data = pd.read_csv('Preprocesswithoutstopword.csv',encoding='latin-1')\n"
   ]
  },
  {
   "cell_type": "code",
   "execution_count": 4,
   "metadata": {},
   "outputs": [],
   "source": [
    "processed_data['sentiment'] = processed_data['sentiment'].replace(4,1)"
   ]
  },
  {
   "cell_type": "code",
   "execution_count": 5,
   "metadata": {
    "colab": {},
    "colab_type": "code",
    "id": "6tlrAFrD_-_b"
   },
   "outputs": [],
   "source": [
    "text,sentiment=list(processed_data['clean_text'].values.astype('U')),list(processed_data['sentiment'])"
   ]
  },
  {
   "cell_type": "code",
   "execution_count": 6,
   "metadata": {},
   "outputs": [
    {
     "name": "stdout",
     "output_type": "stream",
     "text": [
      "<class 'numpy.str_'>\n"
     ]
    }
   ],
   "source": [
    "for i in text:\n",
    "    print(type(i))\n",
    "    break;"
   ]
  },
  {
   "cell_type": "code",
   "execution_count": 6,
   "metadata": {
    "colab": {
     "base_uri": "https://localhost:8080/",
     "height": 34
    },
    "colab_type": "code",
    "executionInfo": {
     "elapsed": 1615,
     "status": "ok",
     "timestamp": 1597868662236,
     "user": {
      "displayName": "Bhavya Shukla",
      "photoUrl": "https://lh3.googleusercontent.com/a-/AOh14GhwZLTf5LZi0oQ47yV5CkiLYH8Tj1h4BjymPaWPVA=s64",
      "userId": "03457077663430890246"
     },
     "user_tz": -60
    },
    "id": "fD09620vVi6E",
    "outputId": "ba28d307-2179-428a-b003-adea2912e359"
   },
   "outputs": [
    {
     "name": "stdout",
     "output_type": "stream",
     "text": [
      "Data Split done.\n"
     ]
    }
   ],
   "source": [
    "X_train, X_test, y_train, y_test = train_test_split(text, sentiment,test_size = 0.10, random_state = 0)\n",
    "print(f'Data Split done.')"
   ]
  },
  {
   "cell_type": "code",
   "execution_count": null,
   "metadata": {},
   "outputs": [],
   "source": []
  },
  {
   "cell_type": "code",
   "execution_count": 7,
   "metadata": {
    "colab": {
     "base_uri": "https://localhost:8080/",
     "height": 50
    },
    "colab_type": "code",
    "executionInfo": {
     "elapsed": 63383,
     "status": "ok",
     "timestamp": 1597868727089,
     "user": {
      "displayName": "Bhavya Shukla",
      "photoUrl": "https://lh3.googleusercontent.com/a-/AOh14GhwZLTf5LZi0oQ47yV5CkiLYH8Tj1h4BjymPaWPVA=s64",
      "userId": "03457077663430890246"
     },
     "user_tz": -60
    },
    "id": "9ayR4-C6VmWI",
    "outputId": "b2f5a826-9b66-4e49-a3e0-32a0457e4d1b"
   },
   "outputs": [
    {
     "name": "stdout",
     "output_type": "stream",
     "text": [
      "Vectoriser fitted.\n",
      "No. of feature_words:  50000\n"
     ]
    }
   ],
   "source": [
    "vectoriser = TfidfVectorizer(ngram_range=(1,2),max_features=50000)\n",
    "vectoriser.fit(X_train)\n",
    "\n",
    "print(f'Vectoriser fitted.')\n",
    "print('No. of feature_words: ', len(vectoriser.get_feature_names()))"
   ]
  },
  {
   "cell_type": "code",
   "execution_count": 8,
   "metadata": {
    "colab": {
     "base_uri": "https://localhost:8080/",
     "height": 34
    },
    "colab_type": "code",
    "executionInfo": {
     "elapsed": 41764,
     "status": "ok",
     "timestamp": 1597868769606,
     "user": {
      "displayName": "Bhavya Shukla",
      "photoUrl": "https://lh3.googleusercontent.com/a-/AOh14GhwZLTf5LZi0oQ47yV5CkiLYH8Tj1h4BjymPaWPVA=s64",
      "userId": "03457077663430890246"
     },
     "user_tz": -60
    },
    "id": "5mjNRKxz7QjU",
    "outputId": "67a8f667-cd82-4cd1-e4c0-538ae829b1d7"
   },
   "outputs": [
    {
     "name": "stdout",
     "output_type": "stream",
     "text": [
      "Data Transformed.\n"
     ]
    }
   ],
   "source": [
    "X_train = vectoriser.transform(X_train)\n",
    "X_test  = vectoriser.transform(X_test)\n",
    "print(f'Data Transformed.')"
   ]
  },
  {
   "cell_type": "code",
   "execution_count": 9,
   "metadata": {
    "colab": {},
    "colab_type": "code",
    "id": "02AV4Lp8WJZ9"
   },
   "outputs": [],
   "source": [
    "def model_Evaluate(model):\n",
    "    \n",
    "    # Predict values for Test dataset\n",
    "    y_pred = model.predict(X_test)\n",
    "\n",
    "    # Print the evaluation metrics for the dataset.\n",
    "    print(classification_report(y_test, y_pred))\n",
    "    \n",
    "    # Compute and plot the Confusion matrix\n",
    "    cf_matrix = confusion_matrix(y_test, y_pred)\n",
    "    print(cf_matrix)\n",
    "    categories  = ['Negative','Positive']\n",
    "    group_names = ['True Neg','False Pos', 'False Neg','True Pos']\n",
    "    group_percentages = ['{0:.2%}'.format(value) for value in cf_matrix.flatten() / np.sum(cf_matrix)]\n",
    "\n",
    "    labels = [f'{v1}\\n{v2}' for v1, v2 in zip(group_names,group_percentages)]\n",
    "    labels = np.asarray(labels).reshape(2,2)\n",
    "\n",
    "    sns.heatmap(cf_matrix, annot = labels, cmap = 'Blues',fmt = '',\n",
    "                xticklabels = categories, yticklabels = categories)\n",
    "\n",
    "    plt.xlabel(\"Predicted values\", fontdict = {'size':14}, labelpad = 10)\n",
    "    plt.ylabel(\"Actual values\"   , fontdict = {'size':14}, labelpad = 10)\n",
    "    plt.title (\"Confusion Matrix\", fontdict = {'size':18}, pad = 20)"
   ]
  },
  {
   "cell_type": "code",
   "execution_count": 11,
   "metadata": {
    "colab": {},
    "colab_type": "code",
    "id": "LxGogCxvXzAD"
   },
   "outputs": [],
   "source": [
    "# Logistic Regression"
   ]
  },
  {
   "cell_type": "code",
   "execution_count": 10,
   "metadata": {
    "colab": {
     "base_uri": "https://localhost:8080/",
     "height": 474
    },
    "colab_type": "code",
    "executionInfo": {
     "elapsed": 104546,
     "status": "ok",
     "timestamp": 1597868874176,
     "user": {
      "displayName": "Bhavya Shukla",
      "photoUrl": "https://lh3.googleusercontent.com/a-/AOh14GhwZLTf5LZi0oQ47yV5CkiLYH8Tj1h4BjymPaWPVA=s64",
      "userId": "03457077663430890246"
     },
     "user_tz": -60
    },
    "id": "dBcLLS79XTUP",
    "outputId": "e3171beb-ee07-404b-cc65-d5cf668411ad"
   },
   "outputs": [
    {
     "name": "stderr",
     "output_type": "stream",
     "text": [
      "C:\\Users\\bhavya\\Anaconda3\\lib\\site-packages\\sklearn\\linear_model\\logistic.py:432: FutureWarning: Default solver will be changed to 'lbfgs' in 0.22. Specify a solver to silence this warning.\n",
      "  FutureWarning)\n",
      "C:\\Users\\bhavya\\Anaconda3\\lib\\site-packages\\sklearn\\linear_model\\logistic.py:1544: UserWarning: 'n_jobs' > 1 does not have any effect when 'solver' is set to 'liblinear'. Got 'n_jobs' = 8.\n",
      "  \" = {}.\".format(effective_n_jobs(self.n_jobs)))\n"
     ]
    },
    {
     "name": "stdout",
     "output_type": "stream",
     "text": [
      "              precision    recall  f1-score   support\n",
      "\n",
      "           0       0.83      0.81      0.82     74642\n",
      "           1       0.82      0.83      0.82     74057\n",
      "\n",
      "    accuracy                           0.82    148699\n",
      "   macro avg       0.82      0.82      0.82    148699\n",
      "weighted avg       0.82      0.82      0.82    148699\n",
      "\n",
      "[[60808 13834]\n",
      " [12817 61240]]\n"
     ]
    },
    {
     "data": {
      "image/png": "[encoded data removed]",
      "text/plain": [
       "<Figure size 432x288 with 2 Axes>"
      ]
     },
     "metadata": {
      "needs_background": "light"
     },
     "output_type": "display_data"
    }
   ],
   "source": [
    "regressor = LogisticRegression(C = 2, max_iter = 1000, n_jobs=-1)\n",
    "regressor.fit(X_train, y_train)\n",
    "model_Evaluate(regressor)"
   ]
  },
  {
   "cell_type": "code",
   "execution_count": 13,
   "metadata": {
    "colab": {},
    "colab_type": "code",
    "id": "7Y59oZpiX2zG"
   },
   "outputs": [],
   "source": [
    "# Linear Support Vector Classifier"
   ]
  },
  {
   "cell_type": "code",
   "execution_count": 11,
   "metadata": {
    "colab": {
     "base_uri": "https://localhost:8080/",
     "height": 474
    },
    "colab_type": "code",
    "executionInfo": {
     "elapsed": 37867,
     "status": "ok",
     "timestamp": 1597868912068,
     "user": {
      "displayName": "Bhavya Shukla",
      "photoUrl": "https://lh3.googleusercontent.com/a-/AOh14GhwZLTf5LZi0oQ47yV5CkiLYH8Tj1h4BjymPaWPVA=s64",
      "userId": "03457077663430890246"
     },
     "user_tz": -60
    },
    "id": "Bh8AtSeyWQkb",
    "outputId": "29c7c1bf-7891-4e39-9a2f-a6b792f5d10b"
   },
   "outputs": [
    {
     "name": "stderr",
     "output_type": "stream",
     "text": [
      "C:\\Users\\bhavya\\Anaconda3\\lib\\site-packages\\sklearn\\svm\\base.py:929: ConvergenceWarning: Liblinear failed to converge, increase the number of iterations.\n",
      "  \"the number of iterations.\", ConvergenceWarning)\n"
     ]
    },
    {
     "name": "stdout",
     "output_type": "stream",
     "text": [
      "              precision    recall  f1-score   support\n",
      "\n",
      "           0       0.82      0.82      0.82     74642\n",
      "           1       0.82      0.82      0.82     74057\n",
      "\n",
      "    accuracy                           0.82    148699\n",
      "   macro avg       0.82      0.82      0.82    148699\n",
      "weighted avg       0.82      0.82      0.82    148699\n",
      "\n",
      "[[61030 13612]\n",
      " [13306 60751]]\n"
     ]
    },
    {
     "data": {
      "image/png": "[encoded data removed]",
      "text/plain": [
       "<Figure size 432x288 with 2 Axes>"
      ]
     },
     "metadata": {
      "needs_background": "light"
     },
     "output_type": "display_data"
    }
   ],
   "source": [
    "SVCmodel = LinearSVC()\n",
    "SVCmodel.fit(X_train, y_train)\n",
    "model_Evaluate(SVCmodel)"
   ]
  },
  {
   "cell_type": "code",
   "execution_count": 15,
   "metadata": {
    "colab": {},
    "colab_type": "code",
    "id": "1h8tQBwhX8_C"
   },
   "outputs": [],
   "source": [
    "# BernoulliNB"
   ]
  },
  {
   "cell_type": "code",
   "execution_count": 12,
   "metadata": {
    "colab": {
     "base_uri": "https://localhost:8080/",
     "height": 474
    },
    "colab_type": "code",
    "executionInfo": {
     "elapsed": 2234,
     "status": "ok",
     "timestamp": 1597869498000,
     "user": {
      "displayName": "Bhavya Shukla",
      "photoUrl": "https://lh3.googleusercontent.com/a-/AOh14GhwZLTf5LZi0oQ47yV5CkiLYH8Tj1h4BjymPaWPVA=s64",
      "userId": "03457077663430890246"
     },
     "user_tz": -60
    },
    "id": "RFsfgJmMWUZ4",
    "outputId": "bef8738c-9bd6-426a-91a2-3b9e4c19cf56"
   },
   "outputs": [
    {
     "name": "stdout",
     "output_type": "stream",
     "text": [
      "              precision    recall  f1-score   support\n",
      "\n",
      "           0       0.80      0.78      0.79     74642\n",
      "           1       0.79      0.80      0.79     74057\n",
      "\n",
      "    accuracy                           0.79    148699\n",
      "   macro avg       0.79      0.79      0.79    148699\n",
      "weighted avg       0.79      0.79      0.79    148699\n",
      "\n",
      "[[58373 16269]\n",
      " [14567 59490]]\n"
     ]
    },
    {
     "data": {
      "image/png": "[encoded data removed]",
      "text/plain": [
       "<Figure size 432x288 with 2 Axes>"
      ]
     },
     "metadata": {
      "needs_background": "light"
     },
     "output_type": "display_data"
    }
   ],
   "source": [
    "BNBmodel = BernoulliNB(alpha = 2)\n",
    "BNBmodel.fit(X_train, y_train)\n",
    "model_Evaluate(BNBmodel)"
   ]
  },
  {
   "cell_type": "code",
   "execution_count": 17,
   "metadata": {
    "colab": {},
    "colab_type": "code",
    "id": "QzsMzlNsYK0O"
   },
   "outputs": [],
   "source": [
    "# AdaBoostClassifier"
   ]
  },
  {
   "cell_type": "code",
   "execution_count": 13,
   "metadata": {
    "colab": {
     "base_uri": "https://localhost:8080/",
     "height": 528
    },
    "colab_type": "code",
    "executionInfo": {
     "elapsed": 290781,
     "status": "ok",
     "timestamp": 1597869822041,
     "user": {
      "displayName": "Bhavya Shukla",
      "photoUrl": "https://lh3.googleusercontent.com/a-/AOh14GhwZLTf5LZi0oQ47yV5CkiLYH8Tj1h4BjymPaWPVA=s64",
      "userId": "03457077663430890246"
     },
     "user_tz": -60
    },
    "id": "6d8XQKrFWvJp",
    "outputId": "decb1c46-0bcd-4d37-b287-b48cc178fbdb"
   },
   "outputs": [
    {
     "name": "stderr",
     "output_type": "stream",
     "text": [
      "C:\\Users\\bhavya\\Anaconda3\\lib\\site-packages\\sklearn\\metrics\\classification.py:1437: UndefinedMetricWarning: Precision and F-score are ill-defined and being set to 0.0 in labels with no predicted samples.\n",
      "  'precision', 'predicted', average, warn_for)\n"
     ]
    },
    {
     "name": "stdout",
     "output_type": "stream",
     "text": [
      "              precision    recall  f1-score   support\n",
      "\n",
      "           0       0.50      1.00      0.67     74642\n",
      "           1       0.00      0.00      0.00     74057\n",
      "\n",
      "    accuracy                           0.50    148699\n",
      "   macro avg       0.25      0.50      0.33    148699\n",
      "weighted avg       0.25      0.50      0.34    148699\n",
      "\n",
      "[[74642     0]\n",
      " [74057     0]]\n"
     ]
    },
    {
     "data": {
      "image/png": "[encoded data removed]",
      "text/plain": [
       "<Figure size 432x288 with 2 Axes>"
      ]
     },
     "metadata": {
      "needs_background": "light"
     },
     "output_type": "display_data"
    }
   ],
   "source": [
    "ac= AdaBoostClassifier(base_estimator = BNBmodel,n_estimators=200, random_state=0)\n",
    "ac.fit(X_train,y_train)\n",
    "model_Evaluate(ac)"
   ]
  },
  {
   "cell_type": "code",
   "execution_count": 19,
   "metadata": {
    "colab": {},
    "colab_type": "code",
    "id": "X2wsBSaBYN3O"
   },
   "outputs": [],
   "source": [
    "# RandomForest"
   ]
  },
  {
   "cell_type": "code",
   "execution_count": 14,
   "metadata": {
    "colab": {
     "base_uri": "https://localhost:8080/",
     "height": 575
    },
    "colab_type": "code",
    "executionInfo": {
     "elapsed": 1068756,
     "status": "ok",
     "timestamp": 1597870890819,
     "user": {
      "displayName": "Bhavya Shukla",
      "photoUrl": "https://lh3.googleusercontent.com/a-/AOh14GhwZLTf5LZi0oQ47yV5CkiLYH8Tj1h4BjymPaWPVA=s64",
      "userId": "03457077663430890246"
     },
     "user_tz": -60
    },
    "id": "tC998RHfWiz-",
    "outputId": "446a017b-5d54-4e81-8351-d396f47f19f8"
   },
   "outputs": [
    {
     "name": "stderr",
     "output_type": "stream",
     "text": [
      "[Parallel(n_jobs=-1)]: Using backend ThreadingBackend with 8 concurrent workers.\n",
      "[Parallel(n_jobs=-1)]: Done  34 tasks      | elapsed:  5.8min\n",
      "[Parallel(n_jobs=-1)]: Done 100 out of 100 | elapsed: 15.5min finished\n",
      "[Parallel(n_jobs=8)]: Using backend ThreadingBackend with 8 concurrent workers.\n",
      "[Parallel(n_jobs=8)]: Done  34 tasks      | elapsed:    0.3s\n",
      "[Parallel(n_jobs=8)]: Done 100 out of 100 | elapsed:    1.0s finished\n"
     ]
    },
    {
     "name": "stdout",
     "output_type": "stream",
     "text": [
      "              precision    recall  f1-score   support\n",
      "\n",
      "           0       0.76      0.75      0.76     74642\n",
      "           1       0.75      0.77      0.76     74057\n",
      "\n",
      "    accuracy                           0.76    148699\n",
      "   macro avg       0.76      0.76      0.76    148699\n",
      "weighted avg       0.76      0.76      0.76    148699\n",
      "\n",
      "[[55880 18762]\n",
      " [17196 56861]]\n"
     ]
    },
    {
     "data": {
      "image/png": "[encoded data removed]",
      "text/plain": [
       "<Figure size 432x288 with 2 Axes>"
      ]
     },
     "metadata": {
      "needs_background": "light"
     },
     "output_type": "display_data"
    }
   ],
   "source": [
    "rf = RandomForestClassifier(max_depth=50,n_jobs=-1,n_estimators=100,verbose=1)\n",
    "rf.fit(X_train,y_train)\n",
    "model_Evaluate(rf)"
   ]
  },
  {
   "cell_type": "code",
   "execution_count": null,
   "metadata": {
    "colab": {},
    "colab_type": "code",
    "id": "QfTRXb-imVmO"
   },
   "outputs": [],
   "source": [
    "# Decision Tree"
   ]
  },
  {
   "cell_type": "code",
   "execution_count": 15,
   "metadata": {
    "colab": {
     "base_uri": "https://localhost:8080/",
     "height": 474
    },
    "colab_type": "code",
    "executionInfo": {
     "elapsed": 6723590,
     "status": "ok",
     "timestamp": 1597882863296,
     "user": {
      "displayName": "Bhavya Shukla",
      "photoUrl": "https://lh3.googleusercontent.com/a-/AOh14GhwZLTf5LZi0oQ47yV5CkiLYH8Tj1h4BjymPaWPVA=s64",
      "userId": "03457077663430890246"
     },
     "user_tz": -60
    },
    "id": "DLEON2ADeGJA",
    "outputId": "800efad6-ac29-4c35-d4e6-79256a2d3859"
   },
   "outputs": [
    {
     "name": "stdout",
     "output_type": "stream",
     "text": [
      "              precision    recall  f1-score   support\n",
      "\n",
      "           0       0.72      0.73      0.73     74642\n",
      "           1       0.72      0.72      0.72     74057\n",
      "\n",
      "    accuracy                           0.72    148699\n",
      "   macro avg       0.72      0.72      0.72    148699\n",
      "weighted avg       0.72      0.72      0.72    148699\n",
      "\n",
      "[[54372 20270]\n",
      " [20656 53401]]\n"
     ]
    },
    {
     "data": {
      "image/png": "[encoded data removed]",
      "text/plain": [
       "<Figure size 432x288 with 2 Axes>"
      ]
     },
     "metadata": {
      "needs_background": "light"
     },
     "output_type": "display_data"
    }
   ],
   "source": [
    "dt = DecisionTreeClassifier()\n",
    "dt.fit(X_train, y_train)\n",
    "model_Evaluate(dt)"
   ]
  },
  {
   "cell_type": "code",
   "execution_count": null,
   "metadata": {
    "colab": {},
    "colab_type": "code",
    "id": "Usw0w7mCnvTD"
   },
   "outputs": [],
   "source": [
    "# Multi-layer Perceptron"
   ]
  },
  {
   "cell_type": "code",
   "execution_count": 16,
   "metadata": {
    "colab": {
     "base_uri": "https://localhost:8080/",
     "height": 474
    },
    "colab_type": "code",
    "executionInfo": {
     "elapsed": 95306,
     "status": "ok",
     "timestamp": 1597883803670,
     "user": {
      "displayName": "Bhavya Shukla",
      "photoUrl": "https://lh3.googleusercontent.com/a-/AOh14GhwZLTf5LZi0oQ47yV5CkiLYH8Tj1h4BjymPaWPVA=s64",
      "userId": "03457077663430890246"
     },
     "user_tz": -60
    },
    "id": "7-_Mp44hfWsB",
    "outputId": "1905319f-86ca-4c17-f648-2db5b2c84506"
   },
   "outputs": [
    {
     "name": "stdout",
     "output_type": "stream",
     "text": [
      "              precision    recall  f1-score   support\n",
      "\n",
      "           0       0.81      0.80      0.81     74642\n",
      "           1       0.80      0.81      0.81     74057\n",
      "\n",
      "    accuracy                           0.81    148699\n",
      "   macro avg       0.81      0.81      0.81    148699\n",
      "weighted avg       0.81      0.81      0.81    148699\n",
      "\n",
      "[[59921 14721]\n",
      " [14074 59983]]\n"
     ]
    },
    {
     "data": {
      "image/png": "[encoded data removed]",
      "text/plain": [
       "<Figure size 432x288 with 2 Axes>"
      ]
     },
     "metadata": {
      "needs_background": "light"
     },
     "output_type": "display_data"
    }
   ],
   "source": [
    "mlp = MLPClassifier(solver='lbfgs', alpha=1e-5,hidden_layer_sizes=(5, 2), random_state=0)\n",
    "mlp.fit(X_train, y_train)\n",
    "model_Evaluate(mlp)"
   ]
  },
  {
   "cell_type": "code",
   "execution_count": null,
   "metadata": {
    "colab": {},
    "colab_type": "code",
    "id": "DG9Vaw3k2DrX"
   },
   "outputs": [],
   "source": [
    "# Generating Pikle file for each model and saving\n"
   ]
  },
  {
   "cell_type": "code",
   "execution_count": 17,
   "metadata": {
    "colab": {},
    "colab_type": "code",
    "id": "4VLMqb922JSf"
   },
   "outputs": [],
   "source": [
    "import pickle\n",
    "file = open('output for bigram Preprocesswithoutstopwords/vectoriser-ngram-(1,2).pickle','wb')\n",
    "pickle.dump(vectoriser, file)\n",
    "file.close()\n",
    "\n",
    "file = open('output for bigram Preprocesswithoutstopwords/Sentiment-LR-ngram-(1,2).pickle','wb')\n",
    "pickle.dump(regressor, file)\n",
    "file.close()\n",
    "\n",
    "file = open('output for bigram Preprocesswithoutstopwords/SVCmodel-ngram-(1,2).pickle','wb')\n",
    "pickle.dump(SVCmodel, file)\n",
    "file.close()\n",
    "\n",
    "file = open('output for bigram Preprocesswithoutstopwords/BNBmodel-ngram-(1,2).pickle','wb')\n",
    "pickle.dump(BNBmodel, file)\n",
    "file.close()\n",
    "\n",
    "file = open('output for bigram Preprocesswithoutstopwords/ac-ngram-(1,2).pickle','wb')\n",
    "pickle.dump(ac, file)\n",
    "file.close()\n",
    "\n",
    "file = open('output for bigram Preprocesswithoutstopwords/rf-ngram-(1,2).pickle','wb')\n",
    "pickle.dump(rf, file)\n",
    "file.close()\n",
    "\n",
    "file = open('output for bigram Preprocesswithoutstopwords/dt-ngram-(1,2).pickle','wb')\n",
    "pickle.dump(dt, file)\n",
    "file.close()\n",
    "\n",
    "file = open('output for bigram Preprocesswithoutstopwords/mlp-ngram-(1,2).pickle','wb')\n",
    "pickle.dump(mlp, file)\n",
    "file.close()"
   ]
  },
  {
   "cell_type": "code",
   "execution_count": 13,
   "metadata": {},
   "outputs": [
    {
     "name": "stdout",
     "output_type": "stream",
     "text": [
      "                              text sentiment\n",
      "0                   I hate twitter  Negative\n",
      "1       May the Force be with you.  Positive\n",
      "2  Mr. Stark, I don't feel so good  Negative\n"
     ]
    }
   ],
   "source": [
    "def load_models():\n",
    "    '''\n",
    "\n",
    "    '''\n",
    "    \n",
    "    # Load the vectoriser.\n",
    "    file = open('output for bigram Preprocesswithoutstopwords/vectoriser-ngram-(1,2).pickle', 'rb')\n",
    "    vectoriser = pickle.load(file)\n",
    "    file.close()\n",
    "     # Load the BNB Model.\n",
    "    file = open('output for bigram Preprocesswithoutstopwords/BNBmodel-ngram-(1,2).pickle', 'rb')\n",
    "    BNBmodel = pickle.load(file)\n",
    "    file.close()\n",
    "    \n",
    "    return vectoriser, BNBmodel\n",
    "\n",
    "def predict(vectoriser, model, text):\n",
    "    # Predict the sentiment\n",
    "    textdata = vectoriser.transform(preprocess(text))\n",
    "    sentiment = model.predict(textdata)\n",
    "    \n",
    "    # Make a list of text with sentiment.\n",
    "    data = []\n",
    "    for text, pred in zip(text, sentiment):\n",
    "        data.append((text,pred))\n",
    "        \n",
    "    # Convert the list into a Pandas DataFrame.\n",
    "    df = pd.DataFrame(data, columns = ['text','sentiment'])\n",
    "    df = df.replace([0,1], [\"Negative\",\"Positive\"])\n",
    "    return df\n",
    "\n",
    "if __name__==\"__main__\":\n",
    "    # Loading the models.\n",
    "    vectoriser, BNBmodel = load_models()\n",
    "    \n",
    "    # Text to classify should be in a list.\n",
    "    text = [\"I hate twitter\",\n",
    "            \"May the Force be with you.\",\n",
    "            \"Mr. Stark, I don't feel so good\",\n",
    "           ]\n",
    "    \n",
    "    df = predict(vectoriser, BNBmodel, text)\n",
    "    print(df.head())"
   ]
  }
 ],
 "metadata": {
  "colab": {
   "authorship_tag": "ABX9TyOkuH78bOERRif4VQ6MjO5h",
   "collapsed_sections": [],
   "name": "unigram&bigram.ipynb",
   "provenance": []
  },
  "kernelspec": {
   "display_name": "Python 3",
   "language": "python",
   "name": "python3"
  },
  "language_info": {
   "codemirror_mode": {
    "name": "ipython",
    "version": 3
   },
   "file_extension": ".py",
   "mimetype": "text/x-python",
   "name": "python",
   "nbconvert_exporter": "python",
   "pygments_lexer": "ipython3",
   "version": "3.7.4"
  }
 },
 "nbformat": 4,
 "nbformat_minor": 1
}
